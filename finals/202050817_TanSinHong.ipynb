{
 "cells": [
  {
   "cell_type": "code",
   "execution_count": 1,
   "metadata": {},
   "outputs": [],
   "source": [
    "import numpy as np\n",
    "conv_kernel = np.array([[-1, 0, 1],\n",
    "                        [-1, 0, 1],\n",
    "                        [-1, 0, 1]])\n",
    "\n",
    "data_matrix = np.array([\n",
    "    [2, 2, 2, 2, 2, 1, 1, 1],\n",
    "    [2, 2, 2, 2, 2, 1, 1, 1],\n",
    "    [2, 2, 2, 2, 2, 1, 1, 1],\n",
    "    [2, 2, 2, 2, 2, 1, 1, 1],\n",
    "    [2, 2, 2, 9, 9, 9, 9, 9],\n",
    "    [2, 2, 2, 9, 9, 9, 9, 9],\n",
    "    [2, 2, 2, 9, 9, 9, 9, 9],\n",
    "    [2, 2, 2, 9, 9, 9, 9, 9]\n",
    "])"
   ]
  },
  {
   "cell_type": "code",
   "execution_count": 8,
   "metadata": {},
   "outputs": [],
   "source": [
    "\n",
    "def Conv2(data_matrix, conv_kernel, stride, bias, padding, padding_h=1):\n",
    "    if padding:\n",
    "        img2d = np.pad(data_matrix,padding_h, mode='constant',\n",
    "                     constant_values=0)\n",
    "    else:\n",
    "        img2d = data_matrix\n",
    "    inw, inh = img2d.shape\n",
    "    w, h = conv_kernel.shape\n",
    "    outwidth = (inw - w) // stride + 1\n",
    "    outheight = (inh - h) // stride + 1\n",
    "    arrayy = np.zeros(shape=(outwidth, outheight))\n",
    "    for i in range(outheight):\n",
    "        for j in range(outwidth):\n",
    "            s = 0\n",
    "            for k in range(w):\n",
    "                for l in range(h):\n",
    "                    s += img2d[k + i * stride][l + j * stride] * conv_kernel[k][l]\n",
    "            arrayy[i][j] = s + bias\n",
    "    return arrayy\n",
    "\n",
    "\n",
    "def MaxPooling(data_matrix, pool_kernel, stride, padding, padding_h=1):\n",
    "    if padding:\n",
    "        img2d = np.pad(data_matrix,padding_h, mode='constant',\n",
    "                     constant_values=0)\n",
    "    else:\n",
    "        img2d = data_matrix\n",
    "    inw, inh = img2d.shape\n",
    "    w, h = pool_kernel, pool_kernel\n",
    "    outwidth = (inw - w) // stride + 1\n",
    "    outheight = (inh - h) // stride + 1\n",
    "    arrayy_max = np.zeros(shape=(outwidth, outheight))\n",
    "    for i in range(outheight):\n",
    "        for j in range(outwidth):\n",
    "            s = []\n",
    "            for k in range(w):\n",
    "                for l in range(h):\n",
    "                    small_s = img2d[k + i * stride][l + j * stride]\n",
    "                    s.append(small_s)\n",
    "            arrayy_max[i][j] = np.array(s).max()\n",
    "    return arrayy_max\n",
    "\n",
    "\n",
    "def AvgPooling(data_matrix, pool_kernel, stride, padding, padding_h=1):\n",
    "    if padding:\n",
    "        img2d = np.pad(data_matrix,padding_h, mode='constant',\n",
    "                     constant_values=0)\n",
    "    else:\n",
    "        img2d = data_matrix\n",
    "    inw, inh = img2d.shape\n",
    "    w, h = pool_kernel, pool_kernel\n",
    "    outwidth = (inw - w) // stride + 1\n",
    "    outheight = (inh - h) // stride + 1\n",
    "    arrayy_avg = np.zeros(shape=(outwidth, outheight))\n",
    "    for i in range(outheight):\n",
    "        for j in range(outwidth):\n",
    "            s = []\n",
    "            for k in range(w):\n",
    "                for l in range(h):\n",
    "                    small_s = img2d[k + i * stride][l + j * stride]\n",
    "                    s.append(small_s)\n",
    "            arrayy_avg[i][j] = round(np.array(s).mean(), 4)\n",
    "    return arrayy_avg\n"
   ]
  },
  {
   "cell_type": "markdown",
   "metadata": {},
   "source": [
    "## Answer for question 3"
   ]
  },
  {
   "cell_type": "code",
   "execution_count": 9,
   "metadata": {},
   "outputs": [
    {
     "name": "stdout",
     "output_type": "stream",
     "text": [
      "[[  4.5   6.5   6.5   6.5   5.5   4.5   3.5   2.5]\n",
      " [  0.5   0.5   0.5   0.5   0.5   0.5   0.5   0.5]\n",
      " [  0.5   0.5   0.5   0.5   0.5   0.5   0.5   0.5]\n",
      " [  0.5   0.5   7.5  14.5  22.5  23.5  24.5  16.5]\n",
      " [  0.5   0.5   7.5  14.5  22.5  23.5  24.5  16.5]\n",
      " [  0.5   0.5   0.5   0.5   0.5   0.5   0.5   0.5]\n",
      " [  0.5   0.5   0.5   0.5   0.5   0.5   0.5   0.5]\n",
      " [ -3.5  -5.5 -12.5 -19.5 -26.5 -26.5 -26.5 -17.5]]\n"
     ]
    }
   ],
   "source": [
    "conv_value = Conv2(data_matrix=data_matrix, conv_kernel=conv_kernel.T, stride=1, bias=0.5,\n",
    "                    padding='True', padding_h=1)\n",
    "print(conv_value) "
   ]
  },
  {
   "cell_type": "markdown",
   "metadata": {},
   "source": [
    "## Answer for question 4"
   ]
  },
  {
   "cell_type": "code",
   "execution_count": 10,
   "metadata": {},
   "outputs": [
    {
     "name": "stdout",
     "output_type": "stream",
     "text": [
      "[[ 4.5  6.5  5.5  3.5]\n",
      " [ 0.5  0.5  0.5  0.5]\n",
      " [ 0.5  7.5 22.5 24.5]\n",
      " [ 0.5  0.5  0.5  0.5]]\n"
     ]
    }
   ],
   "source": [
    "conv_value_stride2 = Conv2(data_matrix=data_matrix, conv_kernel=conv_kernel.T, stride=2, bias=0.5,\n",
    "                        padding='padding', padding_h=1)\n",
    "print(conv_value_stride2) "
   ]
  },
  {
   "cell_type": "markdown",
   "metadata": {},
   "source": [
    "## Answer for question 5(a)"
   ]
  },
  {
   "cell_type": "code",
   "execution_count": 11,
   "metadata": {},
   "outputs": [
    {
     "name": "stdout",
     "output_type": "stream",
     "text": [
      "[[ 6.5  6.5  6.5  6.5  6.5  5.5  4.5  3.5]\n",
      " [ 6.5  6.5  6.5  6.5  6.5  5.5  4.5  3.5]\n",
      " [ 0.5  7.5 14.5 22.5 23.5 24.5 24.5 24.5]\n",
      " [ 0.5  7.5 14.5 22.5 23.5 24.5 24.5 24.5]\n",
      " [ 0.5  7.5 14.5 22.5 23.5 24.5 24.5 24.5]\n",
      " [ 0.5  7.5 14.5 22.5 23.5 24.5 24.5 24.5]\n",
      " [ 0.5  0.5  0.5  0.5  0.5  0.5  0.5  0.5]\n",
      " [ 0.5  0.5  0.5  0.5  0.5  0.5  0.5  0.5]]\n"
     ]
    }
   ],
   "source": [
    "max_pool_ans = MaxPooling(data_matrix=conv_value, pool_kernel=3, stride=1, padding='padding', padding_h=1)\n",
    "print(max_pool_ans)  "
   ]
  },
  {
   "cell_type": "markdown",
   "metadata": {},
   "source": [
    "## Answer for question 5(b)"
   ]
  },
  {
   "cell_type": "code",
   "execution_count": 12,
   "metadata": {},
   "outputs": [
    {
     "name": "stdout",
     "output_type": "stream",
     "text": [
      "[[ 1.3333  2.1111  2.3333  2.2222  2.      1.6667  1.3333  0.7778]\n",
      " [ 1.4444  2.2778  2.5     2.3889  2.1667  1.8333  1.5     0.8889]\n",
      " [ 0.3333  1.2778  2.8333  5.2778  7.0556  8.1667  7.5     4.7778]\n",
      " [ 0.3333  2.0556  5.1667 10.0556 13.6111 15.8333 14.5     9.2222]\n",
      " [ 0.3333  2.0556  5.1667 10.0556 13.6111 15.8333 14.5     9.2222]\n",
      " [ 0.3333  1.2778  2.8333  5.2778  7.0556  8.1667  7.5     4.7778]\n",
      " [-0.7778 -2.0556 -3.8333 -6.1667 -7.7222 -8.5    -7.5    -4.6667]\n",
      " [-0.8889 -2.2222 -4.     -6.3333 -7.8889 -8.6667 -7.6667 -4.7778]]\n"
     ]
    }
   ],
   "source": [
    "avg_pool_ans = AvgPooling(data_matrix=conv_value, pool_kernel=3, stride=1, padding='padding', padding_h=1)\n",
    "print(avg_pool_ans) "
   ]
  },
  {
   "cell_type": "code",
   "execution_count": null,
   "metadata": {},
   "outputs": [],
   "source": []
  }
 ],
 "metadata": {
  "interpreter": {
   "hash": "cf0e877d09f176719d974c55650ff9b0ef0f617e9aca9accb20226760984de44"
  },
  "kernelspec": {
   "display_name": "Python 3.8.3 64-bit ('base': conda)",
   "language": "python",
   "name": "python3"
  },
  "language_info": {
   "codemirror_mode": {
    "name": "ipython",
    "version": 3
   },
   "file_extension": ".py",
   "mimetype": "text/x-python",
   "name": "python",
   "nbconvert_exporter": "python",
   "pygments_lexer": "ipython3",
   "version": "3.8.3"
  },
  "orig_nbformat": 4
 },
 "nbformat": 4,
 "nbformat_minor": 2
}
